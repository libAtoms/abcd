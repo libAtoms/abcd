{
 "cells": [
  {
   "cell_type": "markdown",
   "metadata": {
    "slideshow": {
     "slide_type": "slide"
    }
   },
   "source": [
    "# Grain boundaries of $\\alpha$-Fe tutorial"
   ]
  },
  {
   "cell_type": "markdown",
   "metadata": {},
   "source": [
    "## Introduction\n",
    "\n",
    "In this tutorial we will be using a machine learning method (clustering) to analyse results of Grain Boundary (GB) calculations of $\\alpha$-iron. Along the way we will learn about different methods to describe local atomic environment in order to calculate properties of GBs. We will use these properties to separate the different regions of the GB using clustering methods. Finally we will determine how the energy of the GB is changing according to the angle difference of the regions.\n",
    "\n",
    "### Tutorial overview:\n",
    "\n",
    "1. [The data (Nomad, Imeall)](#The-data)\n",
    "2. [Analysis of the data - Definition of Local Atomic Enviroment](#2.-Analysis-of-the-data---Definition-of-Local-Atomic-Enviroment)\n",
    "    1. [coordination number](#Coordination-Numbers)\n",
    "    2. [centrosymmetry parameter analysis](#Centrosymmetry-parameter-analysis)\n",
    "    3. [polyhedral template matching](#Polyhedral-Template-Matching)\n",
    "3. [Machine Learning methods: Clustering](#3.-Machine-Learning-methods:--Clustering)\n",
    "\n"
   ]
  },
  {
   "cell_type": "markdown",
   "metadata": {
    "slideshow": {
     "slide_type": "slide"
    }
   },
   "source": [
    "## 1.  A look at the data: Grain boundaries\n",
    "\n",
    "Grain boundaries are 2D defects in the crystal structure, studying them is important because they can change the mechanical, electrical and thermal properties of the material. GBs can also play a significant role in how metals  break or become brittle and fracture due to the introduction and subsequent diffusion of hydrogen into the metal.\n",
    "\n",
    "Mainly there are two types of GBs; the schematic below represents a tilt (top) and a twist (bottom) boundary between two idealised grains.\n",
    "<img align=\"center\" width=\"30%\" src=\"https://upload.wikimedia.org/wikipedia/commons/9/96/TiltAndTwistBoundaries_remade.svg\">\n",
    "\n",
    "\n",
    "### The data\n",
    "\n",
    "In this tutorial we will use a tiny subset of the Imeall database (http://www.imeall.co.uk). All the calculations of this subset are **relaxed structures of tilt GBs**, calculated using **PotHB potential** and stored in **extended xyz** file format of **bcc Fe**.\n",
    " \n",
    "\n",
    "***"
   ]
  },
  {
   "cell_type": "markdown",
   "metadata": {},
   "source": [
    "First we need to load the python packages that we use in this notebook."
   ]
  },
  {
   "cell_type": "code",
   "execution_count": 1,
   "metadata": {},
   "outputs": [],
   "source": [
    "import sys\n",
    "\n",
    "sys.path.append(\"..\")"
   ]
  },
  {
   "cell_type": "code",
   "execution_count": 2,
   "metadata": {
    "slideshow": {
     "slide_type": "skip"
    }
   },
   "outputs": [],
   "source": [
    "%matplotlib inline\n",
    "\n",
    "\n",
    "from asap3 import FullNeighborList\n",
    "from asap3.analysis import PTM, CoordinationNumbers\n",
    "from ase.io import read\n",
    "import matplotlib.pyplot as plt\n",
    "import numpy as np\n",
    "from scipy.spatial import cKDTree\n",
    "from scripts.Visualise import AtomViewer\n",
    "from sklearn.cluster import KMeans\n",
    "\n",
    "from abcd import ABCD"
   ]
  },
  {
   "cell_type": "markdown",
   "metadata": {},
   "source": [
    "Define some parameters of alpha-Fe (BCC):"
   ]
  },
  {
   "cell_type": "code",
   "execution_count": 3,
   "metadata": {},
   "outputs": [],
   "source": [
    "# potential energy of the perfect crystal according to a specific potential\n",
    "Fe_BCC_energy_per_atom = -4.01298214176  # alpha-Fe PotBH\n",
    "Fe_BCC_lattice_constant = 2.856"
   ]
  },
  {
   "cell_type": "code",
   "execution_count": 4,
   "metadata": {
    "scrolled": true
   },
   "outputs": [],
   "source": [
    "abcd = ABCD(url=\"mongodb://localhost:27017\")\n",
    "\n",
    "query = {\n",
    "    \"info.GB_params.name\": \"alphaFe\",\n",
    "    \"info.GB_params.type\": \"tilt\",\n",
    "}\n",
    "\n",
    "traj = list(abcd.get_atoms(query))"
   ]
  },
  {
   "cell_type": "code",
   "execution_count": 5,
   "metadata": {},
   "outputs": [
    {
     "data": {
      "text/plain": [
       "62"
      ]
     },
     "execution_count": 5,
     "metadata": {},
     "output_type": "execute_result"
    }
   ],
   "source": [
    "len(traj)"
   ]
  },
  {
   "cell_type": "code",
   "execution_count": 6,
   "metadata": {},
   "outputs": [],
   "source": [
    "for atoms in traj:\n",
    "    atoms.calc.results = {\"energy\": atoms.info[\"energy\"]}"
   ]
  },
  {
   "cell_type": "markdown",
   "metadata": {},
   "source": [
    "List the first 10 files in the directory of tilt GB"
   ]
  },
  {
   "cell_type": "code",
   "execution_count": 7,
   "metadata": {},
   "outputs": [],
   "source": [
    "# dir_path = Path(\"data/GB_alphaFe_001/tilt\")\n",
    "# listdir(str(dir_path))[:10], 'etc.'"
   ]
  },
  {
   "cell_type": "markdown",
   "metadata": {},
   "source": [
    "Load a selected calculation using ase.io.read function into an ase.Atoms object which contains the properties of the calculation and the list of atoms.\n",
    "You can choose any of them."
   ]
  },
  {
   "cell_type": "code",
   "execution_count": 8,
   "metadata": {},
   "outputs": [],
   "source": [
    "# # filepath = dir_path / '0012807140_v6bxv2_tv0.4bxv0.0_d1.8z_traj.xyz'\n",
    "# filepath = dir_path / '0016193350_v6bxv2_tv0.4bxv0.4_d2.0z_traj.xyz'\n",
    "# atoms = read(str(filepath))"
   ]
  },
  {
   "cell_type": "markdown",
   "metadata": {},
   "source": [
    "We can use the help function, or \"?\" mark to get more details about attributes and methods of the ase.Atoms object:"
   ]
  },
  {
   "cell_type": "code",
   "execution_count": 9,
   "metadata": {
    "scrolled": false
   },
   "outputs": [],
   "source": [
    "# ?Atoms"
   ]
  },
  {
   "cell_type": "markdown",
   "metadata": {},
   "source": [
    "Print some properties of the calculation:"
   ]
  },
  {
   "cell_type": "code",
   "execution_count": 10,
   "metadata": {
    "scrolled": true
   },
   "outputs": [
    {
     "name": "stdout",
     "output_type": "stream",
     "text": [
      "number of atoms: 10812\n",
      " total_energy: -43297.2123 eV\n",
      " cell voluem:  122893.2182 A^3\n",
      " periodic boundary: [ True  True  True]\n"
     ]
    }
   ],
   "source": [
    "print(\n",
    "    f\"number of atoms: {atoms.get_number_of_atoms():d}\\n\",\n",
    "    f\"total_energy: {atoms.get_total_energy():.4f} eV\\n\",\n",
    "    f\"cell voluem:  {atoms.get_volume():.4f} A^3\\n\",\n",
    "    f\"periodic boundary: {atoms.get_pbc()}\",\n",
    ")"
   ]
  },
  {
   "cell_type": "markdown",
   "metadata": {},
   "source": [
    "We can calculate the GB's energy as the energy difference between the perfect crystal and the actual calculation diveded by the area of the GB\n"
   ]
  },
  {
   "cell_type": "code",
   "execution_count": 11,
   "metadata": {
    "scrolled": false
   },
   "outputs": [
    {
     "name": "stdout",
     "output_type": "stream",
     "text": [
      "energy of grain boundary: 0.7147 J/m^2\n",
      " area: 1021.6293 A^2\n"
     ]
    }
   ],
   "source": [
    "def gb_energy(total_energy, n_atoms, area):\n",
    "    eV = 1.6021766208e-19\n",
    "    Angstrom = 1.0e-10\n",
    "\n",
    "    return (\n",
    "        1\n",
    "        / (2 * area * Angstrom**2)\n",
    "        * (total_energy - Fe_BCC_energy_per_atom * n_atoms)\n",
    "        * eV\n",
    "    )\n",
    "\n",
    "\n",
    "cell = atoms.get_cell_lengths_and_angles()\n",
    "area = cell[0] * cell[1]\n",
    "\n",
    "E_gb = gb_energy(atoms.get_total_energy(), len(atoms), area)\n",
    "\n",
    "print(f\"energy of grain boundary: {E_gb:.4f} J/m^2\\n\", f\"area: {area:.4f} A^2\")"
   ]
  },
  {
   "cell_type": "markdown",
   "metadata": {},
   "source": [
    "Let's visualise the atomic structure. AtomViewer is capable of visualising ase.Atoms object in jupyter notebook environment. We can also represent each atom with a different colour"
   ]
  },
  {
   "cell_type": "code",
   "execution_count": 12,
   "metadata": {
    "scrolled": false
   },
   "outputs": [
    {
     "data": {
      "application/vnd.jupyter.widget-view+json": {
       "model_id": "0b87a68198df4425b3c9c29003cf7137",
       "version_major": 2,
       "version_minor": 0
      },
      "text/plain": [
       "VBox(children=(NGLWidget(), Output(), FloatSlider(value=0.8, description='Ball size', max=1.5, step=0.01)))"
      ]
     },
     "metadata": {},
     "output_type": "display_data"
    }
   ],
   "source": [
    "atom_index = range(len(atoms))\n",
    "view = AtomViewer(atoms, atom_index)\n",
    "view.gui"
   ]
  },
  {
   "cell_type": "markdown",
   "metadata": {
    "slideshow": {
     "slide_type": "slide"
    }
   },
   "source": [
    "## 2. Analysis of the data - Definition of Local Atomic Enviroment\n",
    "\n",
    "In this part we will see methods for describing the local atomic environment (LEA) based on the atomic coordinates only. Later we will use these LAE parameters to construct the feature space for clustering. Most of the methods are invariant under translation and rotation. Usually this is useful, but we will see that in our tutorial we need to use orientation information for proper clustering. \n",
    "\n",
    "Methods:\n",
    "1. [coordination number](#Coordination-Numbers)\n",
    "2. [centrosymmetry parameter analysis](#Centrosymmetry-parameter-analysis)\n",
    "3. [polyhedral template matching](#Polyhedral-Template-Matching)\n",
    "\n",
    "You can find more details about each method at the end of the tutorial."
   ]
  },
  {
   "cell_type": "markdown",
   "metadata": {
    "collapsed": true,
    "slideshow": {
     "slide_type": "subslide"
    }
   },
   "source": [
    "### Coordination Numbers\n",
    "\n",
    "The coordination number of an atom is the number of its nearest neighbor atoms. In a realistic system, it is not necessarily well defined if two atoms are nearest neighbors, so the coordination number is defined as the number of neighbors within a certain distance.\n",
    "\n",
    "**Task:**\n",
    "\n",
    "- Try to use different values for cutoff radius.\n",
    "- Find a reasonable value for cutoff radious.<br>\n",
    "  *Hint: optimal value should be between the first and second shell*<br>\n",
    "  $\\frac{\\sqrt{3}}{2} \\alpha < r_{cut} < \\alpha$, <br>\n",
    "  - where $\\alpha$ is the lattice constant."
   ]
  },
  {
   "cell_type": "code",
   "execution_count": null,
   "metadata": {},
   "outputs": [],
   "source": [
    "# ?CoordinationNumbers"
   ]
  },
  {
   "cell_type": "code",
   "execution_count": null,
   "metadata": {},
   "outputs": [],
   "source": [
    "coord_num = CoordinationNumbers(atoms, rCut=0.93 * Fe_BCC_lattice_constant)"
   ]
  },
  {
   "cell_type": "markdown",
   "metadata": {},
   "source": [
    "Below you can find th python implementation of the CN method:"
   ]
  },
  {
   "cell_type": "code",
   "execution_count": null,
   "metadata": {},
   "outputs": [],
   "source": [
    "# ?FullNeighborList"
   ]
  },
  {
   "cell_type": "code",
   "execution_count": null,
   "metadata": {
    "scrolled": false,
    "slideshow": {
     "slide_type": "fragment"
    }
   },
   "outputs": [],
   "source": [
    "nblist = FullNeighborList(0.93 * Fe_BCC_lattice_constant, atoms=atoms)\n",
    "\n",
    "coord_num = np.zeros(len(atoms))\n",
    "for i, (_atom, neighbor) in enumerate(zip(atoms, nblist)):\n",
    "    coord_num[i] = len(neighbor)"
   ]
  },
  {
   "cell_type": "markdown",
   "metadata": {},
   "source": [
    "Let's visualise the result! On the following histogram we can see that most atoms have the same amount of neighbors."
   ]
  },
  {
   "cell_type": "code",
   "execution_count": null,
   "metadata": {},
   "outputs": [],
   "source": [
    "fig, ax = plt.subplots(figsize=(12, 5))\n",
    "\n",
    "bins = np.arange(-0.5, max(coord_num) + 1)\n",
    "ax.hist(coord_num, bins)\n",
    "\n",
    "ax.set_title(\"Coordination number\")\n",
    "ax.set_xlabel(\"Number of nearest neighbors\")\n",
    "ax.set_ylabel(\"Number of atoms\")\n",
    "plt.show()"
   ]
  },
  {
   "cell_type": "markdown",
   "metadata": {},
   "source": [
    "We can visualise indiviual values. Here the colour represents the number of neighbors for each atom."
   ]
  },
  {
   "cell_type": "code",
   "execution_count": null,
   "metadata": {
    "scrolled": true
   },
   "outputs": [],
   "source": [
    "view = AtomViewer(atoms, coord_num)\n",
    "view.gui"
   ]
  },
  {
   "cell_type": "markdown",
   "metadata": {},
   "source": [
    "We can see that the value of the coordination number is capable of identifying the grain boundary, but is highly sensitive to the chosen cutoff radius."
   ]
  },
  {
   "cell_type": "code",
   "execution_count": null,
   "metadata": {},
   "outputs": [],
   "source": [
    "r_scale_list = np.linspace(0.7, 1.2, 20)\n",
    "\n",
    "avg_neihbour = []\n",
    "for r_scale in r_scale_list:\n",
    "    coord_num = CoordinationNumbers(atoms=atoms, rCut=r_scale * Fe_BCC_lattice_constant)\n",
    "    avg_neihbour.append(np.average(coord_num))\n",
    "\n",
    "fig, ax = plt.subplots(figsize=(12, 5))\n",
    "\n",
    "ax.plot(r_scale_list, avg_neihbour)\n",
    "ax.set_xlabel(\"r_scale\")\n",
    "ax.set_ylabel(\"Average of nearest neighbors\")\n",
    "ax.set_title(\"Coordination Numbers\")\n",
    "plt.show()"
   ]
  },
  {
   "cell_type": "markdown",
   "metadata": {
    "slideshow": {
     "slide_type": "subslide"
    }
   },
   "source": [
    "### Centrosymmetry parameter analysis\n",
    "\n",
    "The centrosymmetry property of some lattices (e.g. fcc and bcc) can be used to\n",
    "distinguish them from other structures such as crystal defects where the local bond\n",
    "symmetry is broken. The CSP of an atom having N nearest neighbors is defined as\n",
    "$$CPS = \\sum\\limits_{i=1}^{N/2} \\left| \\mathbf{r_i} + \\mathbf{r}_{i+N/2}\\right|^2$$\n",
    "- where $\\mathbf{r}_i$ and $\\mathbf{r}_{i+N/2}$ are vectors from the central atom to a pair of opposite neighbors.\n"
   ]
  },
  {
   "cell_type": "markdown",
   "metadata": {},
   "source": [
    "You can find a practical implementation below. For BCC structure we need to use the 8 nearest neighbor."
   ]
  },
  {
   "cell_type": "code",
   "execution_count": null,
   "metadata": {},
   "outputs": [],
   "source": [
    "atoms = traj[0]"
   ]
  },
  {
   "cell_type": "code",
   "execution_count": null,
   "metadata": {},
   "outputs": [],
   "source": []
  },
  {
   "cell_type": "code",
   "execution_count": null,
   "metadata": {},
   "outputs": [],
   "source": [
    "atoms[n_indecies]"
   ]
  },
  {
   "cell_type": "code",
   "execution_count": null,
   "metadata": {},
   "outputs": [],
   "source": [
    "atoms.positions"
   ]
  },
  {
   "cell_type": "code",
   "execution_count": null,
   "metadata": {
    "scrolled": false
   },
   "outputs": [],
   "source": [
    "def CentroSymmentryParameter(atoms, n):\n",
    "    atoms.wrap()\n",
    "    coordinates = atoms.get_positions()\n",
    "    box = np.diag(atoms.get_cell())\n",
    "\n",
    "    # Building the nearest neighbor list\n",
    "\n",
    "    nblist = cKDTree(coordinates, boxsize=box)\n",
    "    distances, nblist = nblist.query(coordinates, k=n + 1)\n",
    "\n",
    "    csp = np.zeros(len(atoms))\n",
    "    for neighbors in nblist:\n",
    "        atom_index = neighbors[0]\n",
    "        n_indecies = neighbors[1:]\n",
    "        N = len(n_indecies)\n",
    "\n",
    "        r = atoms.positions[n_indecies] - atoms.positions[atom_index]\n",
    "\n",
    "        # fixing periodic boundary\n",
    "        r = np.where(abs(r) < abs(r - box), r, r - box)\n",
    "        r = np.where(abs(r) < abs(r + box), r, r + box)\n",
    "\n",
    "        pairs = []\n",
    "        for i, r_i in enumerate(r):\n",
    "            pairs.append(np.linalg.norm(r_i + r[i + 1 :, :], axis=1))\n",
    "\n",
    "        pairs = np.hstack(pairs)\n",
    "\n",
    "        pairs.sort()\n",
    "        csp[atom_index] = np.sum(pairs[: N // 2])\n",
    "\n",
    "    return csp\n",
    "\n",
    "\n",
    "csp = CentroSymmentryParameter(atoms, n=8)"
   ]
  },
  {
   "cell_type": "markdown",
   "metadata": {},
   "source": [
    "The result show how symmetric is the LOA - 0 means perfectly symmetric."
   ]
  },
  {
   "cell_type": "code",
   "execution_count": null,
   "metadata": {
    "scrolled": true
   },
   "outputs": [],
   "source": [
    "fig, ax = plt.subplots(figsize=(12, 5))\n",
    "\n",
    "ax.hist(csp, bins=20)\n",
    "\n",
    "ax.set_title(\"Distribution of Centro Symmentry Parameter\")\n",
    "ax.set_xlabel(\"Centro Symmentry Parameter\")\n",
    "ax.set_ylabel(\"Number of atoms\")\n",
    "# ax.set_yscale('symlog')\n",
    "\n",
    "plt.show()"
   ]
  },
  {
   "cell_type": "code",
   "execution_count": null,
   "metadata": {
    "scrolled": false
   },
   "outputs": [],
   "source": [
    "view = AtomViewer(atoms, csp)\n",
    "view.gui"
   ]
  },
  {
   "cell_type": "markdown",
   "metadata": {
    "collapsed": true,
    "slideshow": {
     "slide_type": "subslide"
    }
   },
   "source": [
    "### Polyhedral Template Matching\n",
    "\n",
    "Polyhedral Template Matching (PTM) is a new alternative to the popular Common Neigbor Analysis, providing raughly the same advantages, but with a greater robustness against thermal vibrations, and does not depend critically on a cutoff.\n",
    "\n",
    "The PTM classifies the local crystalline order, and identifies local simple cubic (SC), face-centered cubic (FCC), body-centered cubic (FCC), hexagonal closed-packed (HCP) and icosahedral (ICO) order. In addition, some ordered alloys based on the FCC and BCC structures are also detected, namely L1_0, L1_2 and B2 structures.\n",
    "\n",
    "https://wiki.fysik.dtu.dk/asap/Local%20crystalline%20order#polyhedral-template-matching-ptm"
   ]
  },
  {
   "cell_type": "code",
   "execution_count": null,
   "metadata": {},
   "outputs": [],
   "source": [
    "# help(PTM)\n",
    "# Imprtant key names of returned data:\n",
    "# 'structure': The local crystal structure around atom i, if any.\n",
    "#              0 = none; 1 = FCC; 2 = HCP; 3 = BCC; 4 = Icosahedral; 5 = SC.\n",
    "# 'rmsd': The RMSD error in the fitting to the template, or INF if no structure was identified.\n",
    "# 'scale': The average distance to the nearest neighbors for structures 1-4;\n",
    "#          or the average distance to nearest and next-nearest neighbors for structure 5;\n",
    "#          or INF if no structure was identified.\n",
    "# 'orientation': The orientation of the crystal lattice, expressed as a unit quaternion.\n",
    "#                If no structure was found, the illegal value (0, 0, 0, 0) is returned.\n",
    "\n",
    "# ?PTM"
   ]
  },
  {
   "cell_type": "code",
   "execution_count": null,
   "metadata": {
    "scrolled": false
   },
   "outputs": [],
   "source": [
    "ptm = PTM(atoms=atoms, cutoff=8.0)\n",
    "ptm.keys()"
   ]
  },
  {
   "cell_type": "code",
   "execution_count": null,
   "metadata": {
    "scrolled": true,
    "slideshow": {
     "slide_type": "fragment"
    }
   },
   "outputs": [],
   "source": [
    "fig, (ax1, ax2) = plt.subplots(1, 2, figsize=(16, 5))\n",
    "\n",
    "ax1.hist(ptm[\"structure\"], range(0, 7))\n",
    "# ax1.set_yscale('symlog')\n",
    "ax1.set_xticks([x + 0.5 for x in range(6)])\n",
    "ax1.set_xticklabels([\"None\", \"FCC\", \"HCP\", \"BCC\", \"Ic\", \"SC\"])\n",
    "ax1.set_ylabel(\"# of atoms\")\n",
    "\n",
    "ax1.set_title(\"Structure\")\n",
    "\n",
    "ax2.hist(ptm[\"scale\"])\n",
    "# ax2.set_yscale('symlog')\n",
    "ax1.set_xlabel(\"distance scale\")\n",
    "ax1.set_ylabel(\"# of atoms\")\n",
    "ax2.set_title(\"Distribution of distance scale\")\n",
    "\n",
    "\n",
    "plt.show()"
   ]
  },
  {
   "cell_type": "code",
   "execution_count": null,
   "metadata": {
    "scrolled": false
   },
   "outputs": [],
   "source": [
    "view = AtomViewer(atoms, ptm[\"scale\"])\n",
    "\n",
    "view.view.center()\n",
    "view.gui"
   ]
  },
  {
   "cell_type": "markdown",
   "metadata": {
    "collapsed": true,
    "slideshow": {
     "slide_type": "slide"
    }
   },
   "source": [
    "## 3. Machine Learning methods:  Clustering\n",
    "\n",
    "Clustering - grouping a set of objects - is an unsupervised machine learning problem. Like for most machine learning algorithms, finding the proper features is one of the most important tasks.\n",
    "We can find a summary about the clustering methods below:\n",
    "\n",
    "http://scikit-learn.org/stable/auto_examples/cluster/plot_cluster_comparison.html\n",
    "\n",
    "<img align=\"left\" width=\"90%\" src=\"http://scikit-learn.org/stable/_images/sphx_glr_plot_cluster_comparison_001.png\">\n",
    "\n"
   ]
  },
  {
   "cell_type": "markdown",
   "metadata": {},
   "source": [
    "Let's design the feature space for clustering. Here we can use the following local properties for constructing the feature space: \n",
    "    - coord_num\n",
    "    - csp\n",
    "    - ptm['orientation']\n",
    "    - ptm['scale']\n",
    "    - ptm['rmsd']\n",
    "    - ptm['structure']\n",
    "    \n",
    "We can also define which clustering method we want to use:\n",
    "    - pred = KMeans(n_clusters=n_clusters).fit_predict(X)\n",
    "    - pred = GaussianMixture(n_components=n_clusters, covariance_type='full').fit(X).predict(X)"
   ]
  },
  {
   "cell_type": "code",
   "execution_count": null,
   "metadata": {},
   "outputs": [],
   "source": [
    "# ?KMeans"
   ]
  },
  {
   "cell_type": "code",
   "execution_count": null,
   "metadata": {},
   "outputs": [],
   "source": [
    "# ?GaussianMixture"
   ]
  },
  {
   "cell_type": "code",
   "execution_count": null,
   "metadata": {},
   "outputs": [],
   "source": [
    "# Feature space\n",
    "# X = np.hstack([ptm['scale'][:, np.newaxis], csp[:, np.newaxis]])\n",
    "X = np.hstack([ptm[\"orientation\"], csp[:, np.newaxis]])\n",
    "# X = ptm['orientation']\n",
    "\n",
    "# Number of clusters\n",
    "n_clusters = 10\n",
    "\n",
    "# Clustering method\n",
    "pred = KMeans(n_clusters=n_clusters).fit_predict(X)\n",
    "# pred = GaussianMixture(n_components=n_clusters, covariance_type='full').fit(X).predict(X)"
   ]
  },
  {
   "cell_type": "markdown",
   "metadata": {},
   "source": [
    "Our goal is to find two groups / the two largest groups of atoms after clustering. We can validate the results by checking the histogram of the prediction. We can see that we must use the descriptor which contains information about the local crystal orientation."
   ]
  },
  {
   "cell_type": "code",
   "execution_count": null,
   "metadata": {
    "scrolled": true
   },
   "outputs": [],
   "source": [
    "count = np.bincount(pred)\n",
    "fig, ax = plt.subplots(figsize=(12, 5))\n",
    "\n",
    "ax.bar(range(n_clusters), count)\n",
    "ax.set_title(\"Histogram\")\n",
    "ax.set_xlabel(\"classes\")\n",
    "ax.set_ylabel(\"# of atoms\")\n",
    "\n",
    "plt.show()"
   ]
  },
  {
   "cell_type": "markdown",
   "metadata": {},
   "source": [
    "By visualising the results, we can see which atoms belong together."
   ]
  },
  {
   "cell_type": "code",
   "execution_count": null,
   "metadata": {
    "scrolled": false
   },
   "outputs": [],
   "source": [
    "view = AtomViewer(atoms, pred)\n",
    "\n",
    "view.view.center()\n",
    "view.gui"
   ]
  },
  {
   "cell_type": "markdown",
   "metadata": {},
   "source": [
    "We can use the two largest cluster for calculating the avarage angle difference between the grains."
   ]
  },
  {
   "cell_type": "code",
   "execution_count": null,
   "metadata": {},
   "outputs": [],
   "source": [
    "# select the 2 largest\n",
    "index = np.argsort(count)[-2:]\n",
    "orientation0 = np.average(ptm[\"orientation\"][pred == index[0], :], axis=0)\n",
    "orientation1 = np.average(ptm[\"orientation\"][pred == index[1], :], axis=0)\n",
    "\n",
    "angle_difference = (\n",
    "    2 * np.arccos(np.dot(orientation0, np.conj(orientation1))) * 180 / np.pi\n",
    ")\n",
    "\n",
    "print(f\"The angle difference between the grains is: {angle_difference:.3f} degree\")"
   ]
  },
  {
   "cell_type": "markdown",
   "metadata": {},
   "source": [
    "# Finally: \n",
    "\n",
    "We can construct a function and run it on all available data to show how the GB energy changes by changing the angle of the grains:"
   ]
  },
  {
   "cell_type": "code",
   "execution_count": null,
   "metadata": {},
   "outputs": [],
   "source": [
    "def diff_angle(filepath):\n",
    "    atoms = read(str(filepath))\n",
    "\n",
    "    cell = atoms.get_cell_lengths_and_angles()\n",
    "    area = cell[0] * cell[1]\n",
    "\n",
    "    E_gb = gb_energy(atoms.get_total_energy(), len(atoms), area)\n",
    "\n",
    "    ptm = PTM(atoms=atoms, cutoff=8.0)\n",
    "\n",
    "    # X = ptm['orientation']\n",
    "    X = np.hstack([ptm[\"orientation\"], ptm[\"scale\"][:, np.newaxis]])\n",
    "\n",
    "    n_clusters = 20\n",
    "\n",
    "    pred = KMeans(n_clusters=n_clusters).fit_predict(X)\n",
    "\n",
    "    count = np.bincount(pred)\n",
    "    index = np.argsort(count)[-2:]\n",
    "\n",
    "    orientation0 = np.average(ptm[\"orientation\"][pred == index[0], :], axis=0)\n",
    "    orientation1 = np.average(ptm[\"orientation\"][pred == index[1], :], axis=0)\n",
    "\n",
    "    angle_difference = (\n",
    "        2 * np.arccos(np.dot(orientation0, np.conj(orientation1))) * 180 / np.pi\n",
    "    )\n",
    "\n",
    "    return angle_difference, E_gb"
   ]
  },
  {
   "cell_type": "code",
   "execution_count": null,
   "metadata": {
    "scrolled": false
   },
   "outputs": [],
   "source": [
    "filelist = list(dir_path.glob(\"**/*.xyz\"))\n",
    "result = np.zeros((len(filelist), 2))\n",
    "for i, file in enumerate(filelist):\n",
    "    result[i, :] = np.array(diff_angle(file))\n",
    "    print(f\"{result[i,0]:6.3f} deg {result[i,1]:7.4f} J/m^2 {file.name}\")"
   ]
  },
  {
   "cell_type": "markdown",
   "metadata": {},
   "source": [
    "Using the calculated angle difference we can show how the boundary energy change:"
   ]
  },
  {
   "cell_type": "code",
   "execution_count": null,
   "metadata": {
    "scrolled": false
   },
   "outputs": [],
   "source": [
    "result_sorted = result[result[:, 0].argsort(), :]\n",
    "fig, ax = plt.subplots(figsize=(10, 6))\n",
    "ax.plot(result_sorted[:, 0], result_sorted[:, 1], \"o-\")\n",
    "plt.show()"
   ]
  },
  {
   "cell_type": "markdown",
   "metadata": {
    "collapsed": true
   },
   "source": [
    "## Take home massage:\n",
    "\n",
    "- machine learning methods are useful tools to analyse datasets without any a priori information.\n",
    "- we need to find the proper features for a certain application (choosing the right properties (features) is more important than the machine learning method itself)"
   ]
  },
  {
   "cell_type": "markdown",
   "metadata": {
    "collapsed": true
   },
   "source": [
    "### Future readings:\n",
    "- Rosenbrock, Conrad W., et al. \"Discovering the Building Blocks of Atomic Systems using Machine Learning.\" arXiv preprint arXiv:1703.06236 (2017).\n",
    "- Stukowski, Alexander. \"Structure identification methods for atomistic simulations of crystalline materials.\" Modelling and Simulation in Materials Science and Engineering 20.4 (2012): 045021.\n",
    "- Larsen, Peter Mahler, Søren Schmidt, and Jakob Schiøtz. \"Robust structural identification via polyhedral template matching.\" Modelling and Simulation in Materials Science and Engineering 24.5 (2016): 055007.\n",
    "\n"
   ]
  },
  {
   "cell_type": "code",
   "execution_count": null,
   "metadata": {},
   "outputs": [],
   "source": []
  },
  {
   "cell_type": "code",
   "execution_count": null,
   "metadata": {},
   "outputs": [],
   "source": []
  },
  {
   "cell_type": "code",
   "execution_count": null,
   "metadata": {},
   "outputs": [],
   "source": []
  },
  {
   "cell_type": "code",
   "execution_count": null,
   "metadata": {},
   "outputs": [],
   "source": []
  },
  {
   "cell_type": "code",
   "execution_count": null,
   "metadata": {},
   "outputs": [],
   "source": []
  }
 ],
 "metadata": {
  "kernelspec": {
   "display_name": "Python 3",
   "language": "python",
   "name": "python3"
  },
  "language_info": {
   "codemirror_mode": {
    "name": "ipython",
    "version": 3
   },
   "file_extension": ".py",
   "mimetype": "text/x-python",
   "name": "python",
   "nbconvert_exporter": "python",
   "pygments_lexer": "ipython3",
   "version": "3.6.7"
  }
 },
 "nbformat": 4,
 "nbformat_minor": 2
}
